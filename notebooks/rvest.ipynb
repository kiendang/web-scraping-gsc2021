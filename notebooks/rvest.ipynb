{
 "cells": [
  {
   "cell_type": "code",
   "execution_count": 1,
   "metadata": {},
   "outputs": [],
   "source": [
    "library(rvest)"
   ]
  },
  {
   "cell_type": "code",
   "execution_count": 2,
   "metadata": {},
   "outputs": [],
   "source": [
    "url <-\n",
    "\"https://www.straitstimes.com/singapore/health/singapores-batman-receives-top-science-award-for-research-in-sars-and-covid-19\""
   ]
  },
  {
   "cell_type": "code",
   "execution_count": 3,
   "metadata": {},
   "outputs": [],
   "source": [
    "article <- read_html(url)"
   ]
  },
  {
   "cell_type": "code",
   "execution_count": 4,
   "metadata": {},
   "outputs": [
    {
     "data": {
      "text/plain": [
       "{html_document}\n",
       "<html class=\"no-js\" lang=\"en\" dir=\"ltr\" prefix=\"og: http://ogp.me/ns# article: http://ogp.me/ns/article# book: http://ogp.me/ns/book# profile: http://ogp.me/ns/profile# video: http://ogp.me/ns/video# product: http://ogp.me/ns/product# content: http://purl.org/rss/1.0/modules/content/ dc: http://purl.org/dc/terms/ foaf: http://xmlns.com/foaf/0.1/ rdfs: http://www.w3.org/2000/01/rdf-schema# sioc: http://rdfs.org/sioc/ns# sioct: http://rdfs.org/sioc/types# skos: http://www.w3.org/2004/02/skos/core# xsd: http://www.w3.org/2001/XMLSchema#\">\n",
       " [1] <head profile=\"http://www.w3.org/1999/xhtml/vocab\">\\n<meta charset=\"utf- ...\n",
       " [2] <script type=\"text/javascript\" src=\"//static.addtoany.com/menu/page.js\"  ...\n",
       " [3] <script type=\"text/javascript\">\\n    if ( /(iPad).*AppleWebKit.*Mobile.* ...\n",
       " [4] <script type=\"text/javascript\">\\n    if ( /.*Android.*AppleWebKit.*Mobil ...\n",
       " [5] <script type=\"text/javascript\">\\n  var postitial_redirecturl;\\n  var pre ...\n",
       " [6] <style>\\n.overlayWhite {height: 100%;  width: 100%;  position: fixed;  z ...\n",
       " [7] <link rel=\"stylesheet\" href=\"/sites/all/themes/custom/bootdemo/css/jquer ...\n",
       " [8] <script src=\"/sites/all/themes/custom/bootdemo/js/jquery.smartbanner.js? ...\n",
       " [9] <link rel=\"manifest\" href=\"/manifest.json\">\\n\n",
       "[10] <script type=\"text/javascript\">\\n  jQuery(function() {\\n    window.addEv ...\n",
       "[11] <body class=\"html not-front not-logged-in no-sidebars page-node page-nod ...\n",
       "[12] <style>\\n    @media (max-width: 768px) {\\n        .queryly_mobile_search ...\n",
       "[13] <script type=\"text/javascript\" src=\"https://www.queryly.com/js/queryly.v ...\n",
       "[14] <script type=\"text/javascript\" src=\"https://www.queryly.com/js/straitsti ...\n",
       "[15] <script type=\"text/javascript\">\\n(function($) {\\nvar pathArray = window. ...\n",
       "[16] <script type=\"text/javascript\">\\n(function($) {\\nif($('#food-search').le ..."
      ]
     },
     "metadata": {},
     "output_type": "display_data"
    }
   ],
   "source": [
    "article"
   ]
  },
  {
   "cell_type": "markdown",
   "metadata": {},
   "source": [
    "List all external urls in the page"
   ]
  },
  {
   "cell_type": "code",
   "execution_count": 5,
   "metadata": {},
   "outputs": [
    {
     "data": {
      "text/html": [
       "<style>\n",
       ".list-inline {list-style: none; margin:0; padding: 0}\n",
       ".list-inline>li {display: inline-block}\n",
       ".list-inline>li:not(:last-child)::after {content: \"\\00b7\"; padding: 0 .5ex}\n",
       "</style>\n",
       "<ol class=list-inline><li>'http://stepaper.straitstimes.com'</li><li>'http://www.sph.com.sg/our-businesses/online/sph-digital/'</li><li>'http://www.sphrewards.com.sg'</li><li>'http://www.stjobs.sg/?utm_source=Straits+Times&amp;utm_medium=banner&amp;utm_campaign=ST_link_20131219'</li><li>'http://www.stcars.sg/?utm_source=Straits+Times&amp;utm_medium=banner&amp;utm_campaign=ST_link_20131219'</li><li>'http://www.stproperty.sg/?utm_source=Straits+Times&amp;utm_medium=banner&amp;utm_campaign=ST_link_20131219'</li><li>'https://www.stclassifieds.sg/?utm_source=Straits+Times&amp;utm_medium=banner&amp;utm_campaign=ST_link_20131219'</li><li>'http://beritaharian.sg/'</li><li>'http://www.hardwarezone.com.sg/'</li><li>'http://www.wanbao.com.sg/'</li><li>'http://www.stomp.com.sg/'</li><li>'http://www.sgcarmart.com/'</li><li>'http://www.srx.com.sg/'</li><li>'http://www.tabla.com.sg/'</li><li>'http://www.tamilmurasu.com.sg/'</li><li>'http://www.businesstimes.com.sg/'</li><li>'http://www.tnp.sg/'</li><li>'http://www.zaobao.com'</li><li>'https://obits.sg/'</li><li>'http://www.straitstimes.com/advertise-with-the-straits-times'</li><li>'https://newspost.newslink.sg/?publication=ST&amp;date=12/10/2021&amp;title=Singapore\\'s \\'batman\\' receives top science award for research in Sars and Covid-19'</li><li>'https://subscribe.sph.com.sg/promotions/st-3-months-99-cents?utm_campaign=stad3099&amp;utm_medium=sph-publication&amp;utm_source=subshare-st&amp;utm_content=subscribebutton-expiredlink-pay'</li><li>'https://subscribe.sph.com.sg/promotions/st-3-months-99-cents?utm_campaign=stad3099&amp;utm_medium=sph-publication&amp;utm_source=subshare-st&amp;utm_content=subscribebutton-articlelimit-pay'</li><li>'https://www.straitstimes.com/singapore/health/two-leaders-in-singhealth-and-astar-receive-spores-top-scientific-honour'</li><li>'https://www.straitstimes.com/singapore/health/trailblazing-clinician-scientist-to-break-new-ground-in-china-0'</li><li>'https://www.straitstimes.com/singapore/spore-team-turning-cockroaches-into-life-saving-cyborg-bugs-at-disaster-sites'</li><li>'https://www.straitstimes.com/singapore/parenting-education/singapores-first-tuition-free-computer-science-programme-to-be'</li><li>'https://www.straitstimes.com/singapore/health/two-leaders-in-singhealth-and-astar-receive-spores-top-scientific-honour'</li><li>'https://www.straitstimes.com/singapore/outstanding-girl-guides-and-venture-scouts-awarded-at-istana'</li><li>' https://t.me/TheStraitsTimes'</li><li>'https://newspost.newslink.sg/?publication=ST&amp;date=12/10/2021&amp;title=Singapore\\'s \\'batman\\' receives top science award for research in Sars and Covid-19'</li><li>'https://itunes.apple.com/sg/app/the-straits-times-for-iphone/id547465441?mt=8'</li><li>'https://play.google.com/store/apps/details?id=com.buuuk.st&amp;hl=en'</li><li>'https://subscribe.sph.com.sg/publications-st/?utm_campaign=st_subscription&amp;utm_medium=sph-publication&amp;utm_source=st&amp;utm_content=subscribebutton-footer'</li><li>'http://stepaper.straitstimes.com/'</li><li>'http://www.facebook.com/TheStraitsTimes'</li><li>'http://instagram.com/straits_times'</li><li>'http://twitter.com/straits_times'</li><li>'https://t.me/TheStraitsTimes'</li><li>'https://www.youtube.com/user/StraitsTimesOnline'</li><li>'http://sph.com.sg/legal/website_tnc.html'</li><li>'http://sph.com.sg/legal/pdpa.html'</li></ol>\n"
      ],
      "text/latex": [
       "\\begin{enumerate*}\n",
       "\\item 'http://stepaper.straitstimes.com'\n",
       "\\item 'http://www.sph.com.sg/our-businesses/online/sph-digital/'\n",
       "\\item 'http://www.sphrewards.com.sg'\n",
       "\\item 'http://www.stjobs.sg/?utm\\_source=Straits+Times\\&utm\\_medium=banner\\&utm\\_campaign=ST\\_link\\_20131219'\n",
       "\\item 'http://www.stcars.sg/?utm\\_source=Straits+Times\\&utm\\_medium=banner\\&utm\\_campaign=ST\\_link\\_20131219'\n",
       "\\item 'http://www.stproperty.sg/?utm\\_source=Straits+Times\\&utm\\_medium=banner\\&utm\\_campaign=ST\\_link\\_20131219'\n",
       "\\item 'https://www.stclassifieds.sg/?utm\\_source=Straits+Times\\&utm\\_medium=banner\\&utm\\_campaign=ST\\_link\\_20131219'\n",
       "\\item 'http://beritaharian.sg/'\n",
       "\\item 'http://www.hardwarezone.com.sg/'\n",
       "\\item 'http://www.wanbao.com.sg/'\n",
       "\\item 'http://www.stomp.com.sg/'\n",
       "\\item 'http://www.sgcarmart.com/'\n",
       "\\item 'http://www.srx.com.sg/'\n",
       "\\item 'http://www.tabla.com.sg/'\n",
       "\\item 'http://www.tamilmurasu.com.sg/'\n",
       "\\item 'http://www.businesstimes.com.sg/'\n",
       "\\item 'http://www.tnp.sg/'\n",
       "\\item 'http://www.zaobao.com'\n",
       "\\item 'https://obits.sg/'\n",
       "\\item 'http://www.straitstimes.com/advertise-with-the-straits-times'\n",
       "\\item 'https://newspost.newslink.sg/?publication=ST\\&date=12/10/2021\\&title=Singapore\\textbackslash{}'s \\textbackslash{}'batman\\textbackslash{}' receives top science award for research in Sars and Covid-19'\n",
       "\\item 'https://subscribe.sph.com.sg/promotions/st-3-months-99-cents?utm\\_campaign=stad3099\\&utm\\_medium=sph-publication\\&utm\\_source=subshare-st\\&utm\\_content=subscribebutton-expiredlink-pay'\n",
       "\\item 'https://subscribe.sph.com.sg/promotions/st-3-months-99-cents?utm\\_campaign=stad3099\\&utm\\_medium=sph-publication\\&utm\\_source=subshare-st\\&utm\\_content=subscribebutton-articlelimit-pay'\n",
       "\\item 'https://www.straitstimes.com/singapore/health/two-leaders-in-singhealth-and-astar-receive-spores-top-scientific-honour'\n",
       "\\item 'https://www.straitstimes.com/singapore/health/trailblazing-clinician-scientist-to-break-new-ground-in-china-0'\n",
       "\\item 'https://www.straitstimes.com/singapore/spore-team-turning-cockroaches-into-life-saving-cyborg-bugs-at-disaster-sites'\n",
       "\\item 'https://www.straitstimes.com/singapore/parenting-education/singapores-first-tuition-free-computer-science-programme-to-be'\n",
       "\\item 'https://www.straitstimes.com/singapore/health/two-leaders-in-singhealth-and-astar-receive-spores-top-scientific-honour'\n",
       "\\item 'https://www.straitstimes.com/singapore/outstanding-girl-guides-and-venture-scouts-awarded-at-istana'\n",
       "\\item ' https://t.me/TheStraitsTimes'\n",
       "\\item 'https://newspost.newslink.sg/?publication=ST\\&date=12/10/2021\\&title=Singapore\\textbackslash{}'s \\textbackslash{}'batman\\textbackslash{}' receives top science award for research in Sars and Covid-19'\n",
       "\\item 'https://itunes.apple.com/sg/app/the-straits-times-for-iphone/id547465441?mt=8'\n",
       "\\item 'https://play.google.com/store/apps/details?id=com.buuuk.st\\&hl=en'\n",
       "\\item 'https://subscribe.sph.com.sg/publications-st/?utm\\_campaign=st\\_subscription\\&utm\\_medium=sph-publication\\&utm\\_source=st\\&utm\\_content=subscribebutton-footer'\n",
       "\\item 'http://stepaper.straitstimes.com/'\n",
       "\\item 'http://www.facebook.com/TheStraitsTimes'\n",
       "\\item 'http://instagram.com/straits\\_times'\n",
       "\\item 'http://twitter.com/straits\\_times'\n",
       "\\item 'https://t.me/TheStraitsTimes'\n",
       "\\item 'https://www.youtube.com/user/StraitsTimesOnline'\n",
       "\\item 'http://sph.com.sg/legal/website\\_tnc.html'\n",
       "\\item 'http://sph.com.sg/legal/pdpa.html'\n",
       "\\end{enumerate*}\n"
      ],
      "text/markdown": [
       "1. 'http://stepaper.straitstimes.com'\n",
       "2. 'http://www.sph.com.sg/our-businesses/online/sph-digital/'\n",
       "3. 'http://www.sphrewards.com.sg'\n",
       "4. 'http://www.stjobs.sg/?utm_source=Straits+Times&amp;utm_medium=banner&amp;utm_campaign=ST_link_20131219'\n",
       "5. 'http://www.stcars.sg/?utm_source=Straits+Times&amp;utm_medium=banner&amp;utm_campaign=ST_link_20131219'\n",
       "6. 'http://www.stproperty.sg/?utm_source=Straits+Times&amp;utm_medium=banner&amp;utm_campaign=ST_link_20131219'\n",
       "7. 'https://www.stclassifieds.sg/?utm_source=Straits+Times&amp;utm_medium=banner&amp;utm_campaign=ST_link_20131219'\n",
       "8. 'http://beritaharian.sg/'\n",
       "9. 'http://www.hardwarezone.com.sg/'\n",
       "10. 'http://www.wanbao.com.sg/'\n",
       "11. 'http://www.stomp.com.sg/'\n",
       "12. 'http://www.sgcarmart.com/'\n",
       "13. 'http://www.srx.com.sg/'\n",
       "14. 'http://www.tabla.com.sg/'\n",
       "15. 'http://www.tamilmurasu.com.sg/'\n",
       "16. 'http://www.businesstimes.com.sg/'\n",
       "17. 'http://www.tnp.sg/'\n",
       "18. 'http://www.zaobao.com'\n",
       "19. 'https://obits.sg/'\n",
       "20. 'http://www.straitstimes.com/advertise-with-the-straits-times'\n",
       "21. 'https://newspost.newslink.sg/?publication=ST&amp;date=12/10/2021&amp;title=Singapore\\'s \\'batman\\' receives top science award for research in Sars and Covid-19'\n",
       "22. 'https://subscribe.sph.com.sg/promotions/st-3-months-99-cents?utm_campaign=stad3099&amp;utm_medium=sph-publication&amp;utm_source=subshare-st&amp;utm_content=subscribebutton-expiredlink-pay'\n",
       "23. 'https://subscribe.sph.com.sg/promotions/st-3-months-99-cents?utm_campaign=stad3099&amp;utm_medium=sph-publication&amp;utm_source=subshare-st&amp;utm_content=subscribebutton-articlelimit-pay'\n",
       "24. 'https://www.straitstimes.com/singapore/health/two-leaders-in-singhealth-and-astar-receive-spores-top-scientific-honour'\n",
       "25. 'https://www.straitstimes.com/singapore/health/trailblazing-clinician-scientist-to-break-new-ground-in-china-0'\n",
       "26. 'https://www.straitstimes.com/singapore/spore-team-turning-cockroaches-into-life-saving-cyborg-bugs-at-disaster-sites'\n",
       "27. 'https://www.straitstimes.com/singapore/parenting-education/singapores-first-tuition-free-computer-science-programme-to-be'\n",
       "28. 'https://www.straitstimes.com/singapore/health/two-leaders-in-singhealth-and-astar-receive-spores-top-scientific-honour'\n",
       "29. 'https://www.straitstimes.com/singapore/outstanding-girl-guides-and-venture-scouts-awarded-at-istana'\n",
       "30. ' https://t.me/TheStraitsTimes'\n",
       "31. 'https://newspost.newslink.sg/?publication=ST&amp;date=12/10/2021&amp;title=Singapore\\'s \\'batman\\' receives top science award for research in Sars and Covid-19'\n",
       "32. 'https://itunes.apple.com/sg/app/the-straits-times-for-iphone/id547465441?mt=8'\n",
       "33. 'https://play.google.com/store/apps/details?id=com.buuuk.st&amp;hl=en'\n",
       "34. 'https://subscribe.sph.com.sg/publications-st/?utm_campaign=st_subscription&amp;utm_medium=sph-publication&amp;utm_source=st&amp;utm_content=subscribebutton-footer'\n",
       "35. 'http://stepaper.straitstimes.com/'\n",
       "36. 'http://www.facebook.com/TheStraitsTimes'\n",
       "37. 'http://instagram.com/straits_times'\n",
       "38. 'http://twitter.com/straits_times'\n",
       "39. 'https://t.me/TheStraitsTimes'\n",
       "40. 'https://www.youtube.com/user/StraitsTimesOnline'\n",
       "41. 'http://sph.com.sg/legal/website_tnc.html'\n",
       "42. 'http://sph.com.sg/legal/pdpa.html'\n",
       "\n",
       "\n"
      ],
      "text/plain": [
       " [1] \"http://stepaper.straitstimes.com\"                                                                                                                                                 \n",
       " [2] \"http://www.sph.com.sg/our-businesses/online/sph-digital/\"                                                                                                                         \n",
       " [3] \"http://www.sphrewards.com.sg\"                                                                                                                                                     \n",
       " [4] \"http://www.stjobs.sg/?utm_source=Straits+Times&utm_medium=banner&utm_campaign=ST_link_20131219\"                                                                                   \n",
       " [5] \"http://www.stcars.sg/?utm_source=Straits+Times&utm_medium=banner&utm_campaign=ST_link_20131219\"                                                                                   \n",
       " [6] \"http://www.stproperty.sg/?utm_source=Straits+Times&utm_medium=banner&utm_campaign=ST_link_20131219\"                                                                               \n",
       " [7] \"https://www.stclassifieds.sg/?utm_source=Straits+Times&utm_medium=banner&utm_campaign=ST_link_20131219\"                                                                           \n",
       " [8] \"http://beritaharian.sg/\"                                                                                                                                                          \n",
       " [9] \"http://www.hardwarezone.com.sg/\"                                                                                                                                                  \n",
       "[10] \"http://www.wanbao.com.sg/\"                                                                                                                                                        \n",
       "[11] \"http://www.stomp.com.sg/\"                                                                                                                                                         \n",
       "[12] \"http://www.sgcarmart.com/\"                                                                                                                                                        \n",
       "[13] \"http://www.srx.com.sg/\"                                                                                                                                                           \n",
       "[14] \"http://www.tabla.com.sg/\"                                                                                                                                                         \n",
       "[15] \"http://www.tamilmurasu.com.sg/\"                                                                                                                                                   \n",
       "[16] \"http://www.businesstimes.com.sg/\"                                                                                                                                                 \n",
       "[17] \"http://www.tnp.sg/\"                                                                                                                                                               \n",
       "[18] \"http://www.zaobao.com\"                                                                                                                                                            \n",
       "[19] \"https://obits.sg/\"                                                                                                                                                                \n",
       "[20] \"http://www.straitstimes.com/advertise-with-the-straits-times\"                                                                                                                     \n",
       "[21] \"https://newspost.newslink.sg/?publication=ST&date=12/10/2021&title=Singapore's 'batman' receives top science award for research in Sars and Covid-19\"                             \n",
       "[22] \"https://subscribe.sph.com.sg/promotions/st-3-months-99-cents?utm_campaign=stad3099&utm_medium=sph-publication&utm_source=subshare-st&utm_content=subscribebutton-expiredlink-pay\" \n",
       "[23] \"https://subscribe.sph.com.sg/promotions/st-3-months-99-cents?utm_campaign=stad3099&utm_medium=sph-publication&utm_source=subshare-st&utm_content=subscribebutton-articlelimit-pay\"\n",
       "[24] \"https://www.straitstimes.com/singapore/health/two-leaders-in-singhealth-and-astar-receive-spores-top-scientific-honour\"                                                           \n",
       "[25] \"https://www.straitstimes.com/singapore/health/trailblazing-clinician-scientist-to-break-new-ground-in-china-0\"                                                                    \n",
       "[26] \"https://www.straitstimes.com/singapore/spore-team-turning-cockroaches-into-life-saving-cyborg-bugs-at-disaster-sites\"                                                             \n",
       "[27] \"https://www.straitstimes.com/singapore/parenting-education/singapores-first-tuition-free-computer-science-programme-to-be\"                                                        \n",
       "[28] \"https://www.straitstimes.com/singapore/health/two-leaders-in-singhealth-and-astar-receive-spores-top-scientific-honour\"                                                           \n",
       "[29] \"https://www.straitstimes.com/singapore/outstanding-girl-guides-and-venture-scouts-awarded-at-istana\"                                                                              \n",
       "[30] \" https://t.me/TheStraitsTimes\"                                                                                                                                                    \n",
       "[31] \"https://newspost.newslink.sg/?publication=ST&date=12/10/2021&title=Singapore's 'batman' receives top science award for research in Sars and Covid-19\"                             \n",
       "[32] \"https://itunes.apple.com/sg/app/the-straits-times-for-iphone/id547465441?mt=8\"                                                                                                    \n",
       "[33] \"https://play.google.com/store/apps/details?id=com.buuuk.st&hl=en\"                                                                                                                 \n",
       "[34] \"https://subscribe.sph.com.sg/publications-st/?utm_campaign=st_subscription&utm_medium=sph-publication&utm_source=st&utm_content=subscribebutton-footer\"                           \n",
       "[35] \"http://stepaper.straitstimes.com/\"                                                                                                                                                \n",
       "[36] \"http://www.facebook.com/TheStraitsTimes\"                                                                                                                                          \n",
       "[37] \"http://instagram.com/straits_times\"                                                                                                                                               \n",
       "[38] \"http://twitter.com/straits_times\"                                                                                                                                                 \n",
       "[39] \"https://t.me/TheStraitsTimes\"                                                                                                                                                     \n",
       "[40] \"https://www.youtube.com/user/StraitsTimesOnline\"                                                                                                                                  \n",
       "[41] \"http://sph.com.sg/legal/website_tnc.html\"                                                                                                                                         \n",
       "[42] \"http://sph.com.sg/legal/pdpa.html\"                                                                                                                                                "
      ]
     },
     "metadata": {},
     "output_type": "display_data"
    }
   ],
   "source": [
    "article %>% html_elements('a') %>%\n",
    "    sapply(function(node) html_attr(node, 'href')) %>%\n",
    "    { grep('http', ., value = TRUE) }"
   ]
  },
  {
   "cell_type": "markdown",
   "metadata": {},
   "source": [
    "Get the article headline"
   ]
  },
  {
   "cell_type": "code",
   "execution_count": 6,
   "metadata": {},
   "outputs": [
    {
     "data": {
      "text/html": [
       "<ol>\n",
       "\t<li>'The Straits Times'</li>\n",
       "\t<li>'Singapore\\'s \\'batman\\' receives top science award for research in Sars and Covid-19'</li>\n",
       "</ol>\n"
      ],
      "text/latex": [
       "\\begin{enumerate}\n",
       "\\item 'The Straits Times'\n",
       "\\item 'Singapore\\textbackslash{}'s \\textbackslash{}'batman\\textbackslash{}' receives top science award for research in Sars and Covid-19'\n",
       "\\end{enumerate}\n"
      ],
      "text/markdown": [
       "1. 'The Straits Times'\n",
       "2. 'Singapore\\'s \\'batman\\' receives top science award for research in Sars and Covid-19'\n",
       "\n",
       "\n"
      ],
      "text/plain": [
       "[[1]]\n",
       "[1] \"The Straits Times\"\n",
       "\n",
       "[[2]]\n",
       "[1] \"Singapore's 'batman' receives top science award for research in Sars and Covid-19\"\n"
      ]
     },
     "metadata": {},
     "output_type": "display_data"
    }
   ],
   "source": [
    "article %>% html_elements('h1') %>% lapply(function(node) html_text(node)) "
   ]
  },
  {
   "cell_type": "markdown",
   "metadata": {},
   "source": [
    "Get the article author"
   ]
  },
  {
   "cell_type": "code",
   "execution_count": 7,
   "metadata": {},
   "outputs": [
    {
     "data": {
      "text/html": [
       "'Shabana Begum'"
      ],
      "text/latex": [
       "'Shabana Begum'"
      ],
      "text/markdown": [
       "'Shabana Begum'"
      ],
      "text/plain": [
       "[1] \"Shabana Begum\""
      ]
     },
     "metadata": {},
     "output_type": "display_data"
    }
   ],
   "source": [
    "article %>% html_element('.author-field.author-name') %>% html_text"
   ]
  }
 ],
 "metadata": {
  "kernelspec": {
   "display_name": "R",
   "language": "R",
   "name": "ir"
  },
  "language_info": {
   "codemirror_mode": "r",
   "file_extension": ".r",
   "mimetype": "text/x-r-source",
   "name": "R",
   "pygments_lexer": "r",
   "version": "4.1.2"
  }
 },
 "nbformat": 4,
 "nbformat_minor": 4
}
